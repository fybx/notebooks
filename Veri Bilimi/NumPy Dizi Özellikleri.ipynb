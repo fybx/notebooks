{
 "cells": [
  {
   "cell_type": "code",
   "execution_count": 1,
   "id": "33aa8748-a3bf-44b5-8119-814d268f4481",
   "metadata": {},
   "outputs": [],
   "source": [
    "import numpy as np"
   ]
  },
  {
   "cell_type": "markdown",
   "id": "043c0f97-7074-4f6f-b22f-39c44891d633",
   "metadata": {},
   "source": [
    "# Özellikler\n",
    "*  **ndim**: boyut sayısı\n",
    "* **shape**: boyut bilgisi\n",
    "*  **size**: toplam eleman sayısı\n",
    "* **dtype**: dizi veri tipi"
   ]
  },
  {
   "cell_type": "markdown",
   "id": "0f7d7b21-d549-49b0-80f7-374b76b6f190",
   "metadata": {},
   "source": [
    "## Toplam 10 elemandan oluşan 1 boyutlu dizi"
   ]
  },
  {
   "cell_type": "code",
   "execution_count": 2,
   "id": "8234b6e1-8b63-478b-9c8b-929bdd451ce7",
   "metadata": {},
   "outputs": [
    {
     "data": {
      "text/plain": [
       "array([6, 5, 8, 6, 4, 9, 1, 1, 4, 6])"
      ]
     },
     "execution_count": 2,
     "metadata": {},
     "output_type": "execute_result"
    }
   ],
   "source": [
    "np.random.randint(10, size = 10)"
   ]
  },
  {
   "cell_type": "code",
   "execution_count": 3,
   "id": "8849ed7e-02d5-4af2-b325-19bdaa23294c",
   "metadata": {},
   "outputs": [],
   "source": [
    "a = np.random.randint(10, size = 10)"
   ]
  },
  {
   "cell_type": "code",
   "execution_count": 4,
   "id": "1263a772-3f1a-45ed-ac45-f24afea6d822",
   "metadata": {},
   "outputs": [
    {
     "name": "stdout",
     "output_type": "stream",
     "text": [
      "1\n"
     ]
    }
   ],
   "source": [
    "print(a.ndim)"
   ]
  },
  {
   "cell_type": "code",
   "execution_count": 5,
   "id": "c03542be-ee6a-4e81-96e2-cc4937a559f3",
   "metadata": {},
   "outputs": [
    {
     "name": "stdout",
     "output_type": "stream",
     "text": [
      "(10,)\n"
     ]
    }
   ],
   "source": [
    "print(a.shape)"
   ]
  },
  {
   "cell_type": "code",
   "execution_count": 6,
   "id": "c749652f-b4dd-4ae8-bf85-ebf503ed0790",
   "metadata": {},
   "outputs": [
    {
     "name": "stdout",
     "output_type": "stream",
     "text": [
      "int64\n"
     ]
    }
   ],
   "source": [
    "print(a.dtype)"
   ]
  },
  {
   "cell_type": "markdown",
   "id": "2966e92c-c542-485e-9994-c2c6e2098e60",
   "metadata": {},
   "source": [
    "## 3x5'lik matris"
   ]
  },
  {
   "cell_type": "code",
   "execution_count": 7,
   "id": "63770bb6-343b-4762-a511-91a0f105ca46",
   "metadata": {},
   "outputs": [],
   "source": [
    "b = np.random.randint(10, size = (3,5))"
   ]
  },
  {
   "cell_type": "code",
   "execution_count": 8,
   "id": "192981d9-dbfb-42b9-bc6e-a6742aaeb258",
   "metadata": {},
   "outputs": [
    {
     "name": "stdout",
     "output_type": "stream",
     "text": [
      "[[1 2 1 4 1]\n",
      " [3 9 0 6 7]\n",
      " [1 6 2 3 5]]\n"
     ]
    }
   ],
   "source": [
    "print(b)"
   ]
  },
  {
   "cell_type": "code",
   "execution_count": 9,
   "id": "8988c320-85b3-4c6b-b0fa-fb7e8a858c5d",
   "metadata": {},
   "outputs": [
    {
     "name": "stdout",
     "output_type": "stream",
     "text": [
      "2\n"
     ]
    }
   ],
   "source": [
    "print(b.ndim)"
   ]
  },
  {
   "cell_type": "code",
   "execution_count": 10,
   "id": "f7588605-35f9-45b3-9095-141f1e8386fe",
   "metadata": {},
   "outputs": [
    {
     "name": "stdout",
     "output_type": "stream",
     "text": [
      "(3, 5)\n"
     ]
    }
   ],
   "source": [
    "print(b.shape)"
   ]
  },
  {
   "cell_type": "code",
   "execution_count": 11,
   "id": "467f37bf-3940-4f39-a91f-0e1479cc88de",
   "metadata": {},
   "outputs": [
    {
     "name": "stdout",
     "output_type": "stream",
     "text": [
      "15\n"
     ]
    }
   ],
   "source": [
    "print(b.size)"
   ]
  },
  {
   "cell_type": "code",
   "execution_count": 12,
   "id": "578f743f-b7d7-4819-a407-5e6793e6fc59",
   "metadata": {},
   "outputs": [
    {
     "name": "stdout",
     "output_type": "stream",
     "text": [
      "int64\n"
     ]
    }
   ],
   "source": [
    "print(b.dtype)"
   ]
  }
 ],
 "metadata": {
  "kernelspec": {
   "display_name": "Python 3 (ipykernel)",
   "language": "python",
   "name": "python3"
  },
  "language_info": {
   "codemirror_mode": {
    "name": "ipython",
    "version": 3
   },
   "file_extension": ".py",
   "mimetype": "text/x-python",
   "name": "python",
   "nbconvert_exporter": "python",
   "pygments_lexer": "ipython3",
   "version": "3.10.6"
  }
 },
 "nbformat": 4,
 "nbformat_minor": 5
}
