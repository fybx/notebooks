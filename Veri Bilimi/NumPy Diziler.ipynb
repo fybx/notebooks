{
 "cells": [
  {
   "cell_type": "code",
   "execution_count": 1,
   "id": "06c25e7e-8490-4d30-83d0-8b64c7d37424",
   "metadata": {},
   "outputs": [
    {
     "name": "stdout",
     "output_type": "stream",
     "text": [
      "Defaulting to user installation because normal site-packages is not writeable\n",
      "Requirement already satisfied: numpy in /home/ferit/.local/lib/python3.10/site-packages (1.23.3)\n"
     ]
    }
   ],
   "source": [
    "!pip install numpy\n",
    "import numpy as np"
   ]
  },
  {
   "cell_type": "markdown",
   "id": "412efdc0-247d-441e-9878-7e9f7eeca377",
   "metadata": {
    "tags": []
   },
   "source": [
    "# Sıfırlardan oluşan dizi"
   ]
  },
  {
   "cell_type": "code",
   "execution_count": 2,
   "id": "bd1f7ff3-74ea-4f7c-a90e-33544635b1ad",
   "metadata": {},
   "outputs": [
    {
     "data": {
      "text/plain": [
       "array([0, 0, 0, 0, 0, 0, 0, 0, 0, 0])"
      ]
     },
     "execution_count": 2,
     "metadata": {},
     "output_type": "execute_result"
    }
   ],
   "source": [
    "np.zeros(10, dtype=int)"
   ]
  },
  {
   "cell_type": "markdown",
   "id": "63fe88e8-d076-439f-832b-690d6471baee",
   "metadata": {},
   "source": [
    "# Float tipi 1'den oluşan 3x5'lik matris"
   ]
  },
  {
   "cell_type": "code",
   "execution_count": 3,
   "id": "b78f43c6-8594-4c08-a672-702320728344",
   "metadata": {},
   "outputs": [
    {
     "data": {
      "text/plain": [
       "array([[1., 1., 1., 1., 1.],\n",
       "       [1., 1., 1., 1., 1.],\n",
       "       [1., 1., 1., 1., 1.]])"
      ]
     },
     "execution_count": 3,
     "metadata": {},
     "output_type": "execute_result"
    }
   ],
   "source": [
    "np.ones((3,5), dtype=float)"
   ]
  },
  {
   "cell_type": "markdown",
   "id": "4254c8bb-8b1c-49d3-892f-ebe5774a1329",
   "metadata": {},
   "source": [
    "# Integer 4'lerden oluşan 4x4'lük matris"
   ]
  },
  {
   "cell_type": "code",
   "execution_count": 4,
   "id": "500c7430-7ca0-45ae-812a-8f3c598e0729",
   "metadata": {},
   "outputs": [
    {
     "data": {
      "text/plain": [
       "array([[4, 4, 4, 4],\n",
       "       [4, 4, 4, 4],\n",
       "       [4, 4, 4, 4],\n",
       "       [4, 4, 4, 4]])"
      ]
     },
     "execution_count": 4,
     "metadata": {},
     "output_type": "execute_result"
    }
   ],
   "source": [
    "np.full((4,4), 4, dtype=int)"
   ]
  },
  {
   "cell_type": "markdown",
   "id": "391d80a8-9408-4ae4-b03c-8c3734bc5716",
   "metadata": {},
   "source": [
    "# 0'dan başlayıp (0 dahil) üçer üçer 31'e dek artan dizi"
   ]
  },
  {
   "cell_type": "code",
   "execution_count": 5,
   "id": "c25a1d1d-eb1e-4381-8bb3-f76240f815d8",
   "metadata": {},
   "outputs": [
    {
     "data": {
      "text/plain": [
       "array([ 0,  3,  6,  9, 12, 15, 18, 21, 24, 27, 30])"
      ]
     },
     "execution_count": 5,
     "metadata": {},
     "output_type": "execute_result"
    }
   ],
   "source": [
    "np.arange(0, 31, 3)"
   ]
  },
  {
   "cell_type": "markdown",
   "id": "c3761461-b249-499f-a65e-8d9889719306",
   "metadata": {
    "tags": []
   },
   "source": [
    "# 0 ile 1 arasında 10 tane değerden oluşan tek boyutlu dizi"
   ]
  },
  {
   "cell_type": "code",
   "execution_count": 6,
   "id": "56865807-fddb-4368-ba45-cdb0b2ba2b9f",
   "metadata": {},
   "outputs": [
    {
     "data": {
      "text/plain": [
       "array([0.        , 0.11111111, 0.22222222, 0.33333333, 0.44444444,\n",
       "       0.55555556, 0.66666667, 0.77777778, 0.88888889, 1.        ])"
      ]
     },
     "execution_count": 6,
     "metadata": {},
     "output_type": "execute_result"
    }
   ],
   "source": [
    "np.linspace(0, 1, 10)"
   ]
  },
  {
   "cell_type": "markdown",
   "id": "1d986892-3522-41d2-b4f6-c8b41248bfa1",
   "metadata": {
    "tags": []
   },
   "source": [
    "# Ortalaması 10, standart sapması 4 olacak şekilde 3x4'lük matris"
   ]
  },
  {
   "cell_type": "code",
   "execution_count": 7,
   "id": "f9964650-ab59-40db-8a93-4aa87c826c8e",
   "metadata": {},
   "outputs": [
    {
     "data": {
      "text/plain": [
       "array([[14.84689844, 22.97445285, 11.73547486, 13.21529386],\n",
       "       [13.22583379, 10.44299108,  6.80109491, 13.07249499],\n",
       "       [ 7.36647004, 14.94153061,  9.08985867,  5.4842987 ]])"
      ]
     },
     "execution_count": 7,
     "metadata": {},
     "output_type": "execute_result"
    }
   ],
   "source": [
    "np.random.normal(10, 4, (3,4))"
   ]
  },
  {
   "cell_type": "markdown",
   "id": "cb922daf-c66b-4f37-a929-b7776f50ccda",
   "metadata": {},
   "source": [
    "# 0 ile 10 arasındaki rastgele integer değerlerden oluşan 5x5'lik matris"
   ]
  },
  {
   "cell_type": "code",
   "execution_count": 8,
   "id": "27fee26c-152f-4e57-9ca2-3d245027138f",
   "metadata": {},
   "outputs": [
    {
     "data": {
      "text/plain": [
       "array([[8, 5, 2, 7, 6],\n",
       "       [5, 0, 5, 5, 4],\n",
       "       [6, 9, 9, 6, 1],\n",
       "       [8, 1, 6, 6, 6],\n",
       "       [4, 4, 4, 8, 9]])"
      ]
     },
     "execution_count": 8,
     "metadata": {},
     "output_type": "execute_result"
    }
   ],
   "source": [
    "np.random.randint(0, 10, (5,5))"
   ]
  }
 ],
 "metadata": {
  "kernelspec": {
   "display_name": "Python 3 (ipykernel)",
   "language": "python",
   "name": "python3"
  },
  "language_info": {
   "codemirror_mode": {
    "name": "ipython",
    "version": 3
   },
   "file_extension": ".py",
   "mimetype": "text/x-python",
   "name": "python",
   "nbconvert_exporter": "python",
   "pygments_lexer": "ipython3",
   "version": "3.10.6"
  }
 },
 "nbformat": 4,
 "nbformat_minor": 5
}
