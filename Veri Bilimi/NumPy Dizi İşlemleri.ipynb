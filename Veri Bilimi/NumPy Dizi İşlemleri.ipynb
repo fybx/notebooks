{
 "cells": [
  {
   "cell_type": "markdown",
   "id": "095be558-d6b6-402b-8611-0ea520bdfde4",
   "metadata": {
    "jp-MarkdownHeadingCollapsed": true,
    "tags": []
   },
   "source": [
    "# NumPy Dizi Yeniden Şekillendirme"
   ]
  },
  {
   "cell_type": "code",
   "execution_count": 1,
   "id": "b7dc0e0e-4845-450b-a5d2-ef50d32db7c8",
   "metadata": {},
   "outputs": [],
   "source": [
    "import numpy as np"
   ]
  },
  {
   "cell_type": "code",
   "execution_count": 2,
   "id": "5ecfe3e7-9da3-44d7-aedb-45222b02274f",
   "metadata": {},
   "outputs": [
    {
     "data": {
      "text/plain": [
       "array([1, 2, 3, 4, 5, 6, 7, 8, 9])"
      ]
     },
     "execution_count": 2,
     "metadata": {},
     "output_type": "execute_result"
    }
   ],
   "source": [
    "np.arange(1, 10)"
   ]
  },
  {
   "cell_type": "code",
   "execution_count": 3,
   "id": "5c39a668-7752-4e66-81a2-0e5148fed7cc",
   "metadata": {},
   "outputs": [
    {
     "name": "stdout",
     "output_type": "stream",
     "text": [
      "(9,)\n"
     ]
    }
   ],
   "source": [
    "print(np.arange(1, 10).shape)"
   ]
  },
  {
   "cell_type": "code",
   "execution_count": 4,
   "id": "12482c6c-f6fa-41e4-b633-1b9913b93ba2",
   "metadata": {},
   "outputs": [
    {
     "data": {
      "text/plain": [
       "array([[1, 2, 3],\n",
       "       [4, 5, 6],\n",
       "       [7, 8, 9]])"
      ]
     },
     "execution_count": 4,
     "metadata": {},
     "output_type": "execute_result"
    }
   ],
   "source": [
    "np.arange(1,10).reshape((3,3))"
   ]
  },
  {
   "cell_type": "code",
   "execution_count": 5,
   "id": "a86a9cb7-cab8-4d31-91a3-649267797f11",
   "metadata": {},
   "outputs": [
    {
     "name": "stdout",
     "output_type": "stream",
     "text": [
      "(3, 3)\n"
     ]
    }
   ],
   "source": [
    "print(np.arange(1,10).reshape((3,3)).shape)"
   ]
  },
  {
   "cell_type": "markdown",
   "id": "5034d89b-527d-42f7-95a3-b173ff9783d0",
   "metadata": {},
   "source": [
    "## Tek boyutlu diziyi (vektörü) iki boyutlu hale getirme"
   ]
  },
  {
   "cell_type": "code",
   "execution_count": 6,
   "id": "a97d44fe-22f5-4e7e-b248-5eac19d77e20",
   "metadata": {},
   "outputs": [],
   "source": [
    "v = np.arange(1, 10)"
   ]
  },
  {
   "cell_type": "code",
   "execution_count": 7,
   "id": "fc677513-1452-4724-b896-6765895fb1e0",
   "metadata": {},
   "outputs": [
    {
     "name": "stdout",
     "output_type": "stream",
     "text": [
      "[1 2 3 4 5 6 7 8 9]\n"
     ]
    }
   ],
   "source": [
    "print(v)"
   ]
  },
  {
   "cell_type": "code",
   "execution_count": 8,
   "id": "c3ea23e0-a8cc-464b-b79c-7f5613bf213c",
   "metadata": {},
   "outputs": [
    {
     "name": "stdout",
     "output_type": "stream",
     "text": [
      "1\n"
     ]
    }
   ],
   "source": [
    "print(v.ndim)"
   ]
  },
  {
   "cell_type": "markdown",
   "id": "72b42516-611e-41c5-b40e-87d825b607c3",
   "metadata": {},
   "source": [
    "### Yukarıda görüldüğü gibi v tek boyutlu ve 9 elemanlı bir dizi\n",
    "Şimdi bu diziyi 2 boyutlu hale getirmek için `reshape` uygulayacağız"
   ]
  },
  {
   "cell_type": "code",
   "execution_count": 9,
   "id": "bf0e63e6-b317-4c0b-beda-f96f6e96125f",
   "metadata": {},
   "outputs": [],
   "source": [
    "v_r = v.reshape((1,9))"
   ]
  },
  {
   "cell_type": "code",
   "execution_count": 10,
   "id": "715dafeb-1d34-4afa-8cfd-ddcb8002397c",
   "metadata": {},
   "outputs": [
    {
     "name": "stdout",
     "output_type": "stream",
     "text": [
      "[[1 2 3 4 5 6 7 8 9]]\n"
     ]
    }
   ],
   "source": [
    "print(v_r)"
   ]
  },
  {
   "cell_type": "code",
   "execution_count": 11,
   "id": "9209640a-ddce-4d18-a2fb-4c5f5c0c450e",
   "metadata": {},
   "outputs": [
    {
     "name": "stdout",
     "output_type": "stream",
     "text": [
      "2\n"
     ]
    }
   ],
   "source": [
    "print(v_r.ndim)"
   ]
  },
  {
   "cell_type": "markdown",
   "id": "72c678d1-96fd-446a-8f21-33959e722b79",
   "metadata": {},
   "source": [
    "# NumPy Dizi Birleştirme"
   ]
  },
  {
   "cell_type": "code",
   "execution_count": 12,
   "id": "178dcf8f-5a68-430b-b2d9-9f0d2ce489da",
   "metadata": {},
   "outputs": [],
   "source": [
    "x = np.array([1, 2, 3])\n",
    "y = np.array([4, 5, 6])"
   ]
  },
  {
   "cell_type": "code",
   "execution_count": 13,
   "id": "5df2c30b-2106-4cd2-8f3e-ef8c90edc150",
   "metadata": {},
   "outputs": [
    {
     "data": {
      "text/plain": [
       "array([1, 2, 3, 4, 5, 6])"
      ]
     },
     "execution_count": 13,
     "metadata": {},
     "output_type": "execute_result"
    }
   ],
   "source": [
    "np.concatenate([x, y])"
   ]
  },
  {
   "cell_type": "markdown",
   "id": "da181a93-3590-45c9-9bea-940e9c651afa",
   "metadata": {},
   "source": [
    "## İki boyutlu matrisleri birleştirme"
   ]
  },
  {
   "cell_type": "code",
   "execution_count": 15,
   "id": "cb6270e6-db1b-4e77-8dc3-f2e079cb18d6",
   "metadata": {},
   "outputs": [],
   "source": [
    "x_23 = np.array([[1, 2, 3],\n",
    "                 [4, 5, 6]])\n",
    "x_43 = np.concatenate([x_23, x_23])"
   ]
  },
  {
   "cell_type": "code",
   "execution_count": 18,
   "id": "0b3c49fd-adb9-4f08-8390-cb18a4691ff1",
   "metadata": {},
   "outputs": [
    {
     "name": "stdout",
     "output_type": "stream",
     "text": [
      "[[1 2 3]\n",
      " [4 5 6]]\n",
      "(2, 3)\n"
     ]
    }
   ],
   "source": [
    "print(x_23)\n",
    "print(x_23.shape)"
   ]
  },
  {
   "cell_type": "code",
   "execution_count": 19,
   "id": "b9d4fcd2-6299-422f-a69a-da2e8b6f888b",
   "metadata": {},
   "outputs": [
    {
     "name": "stdout",
     "output_type": "stream",
     "text": [
      "[[1 2 3]\n",
      " [4 5 6]\n",
      " [1 2 3]\n",
      " [4 5 6]]\n",
      "(4, 3)\n"
     ]
    }
   ],
   "source": [
    "print(x_43)\n",
    "print(x_43.shape)"
   ]
  },
  {
   "cell_type": "markdown",
   "id": "38b57ebf-f480-42ec-89a2-aad7590d61e8",
   "metadata": {},
   "source": [
    "### Görüldüğü üzere iki matris satır bazında birleştirildi\n",
    "Böylece 2x3 iki matrisin alt alta koyulmasıyla 4x3 bir matris elde edildi. Şimdi sütun bazında birleştirme yapalım"
   ]
  },
  {
   "cell_type": "code",
   "execution_count": 22,
   "id": "311015d1-ea41-4c9d-8711-29faf86eaf62",
   "metadata": {},
   "outputs": [],
   "source": [
    "x_26 = np.concatenate([x_23, x_23], axis=1)"
   ]
  },
  {
   "cell_type": "code",
   "execution_count": 23,
   "id": "9bc01021-1bc8-48fe-b155-7c094539ebde",
   "metadata": {},
   "outputs": [
    {
     "name": "stdout",
     "output_type": "stream",
     "text": [
      "[[1 2 3 1 2 3]\n",
      " [4 5 6 4 5 6]]\n",
      "(2, 6)\n"
     ]
    }
   ],
   "source": [
    "print(x_26)\n",
    "print(x_26.shape)"
   ]
  },
  {
   "cell_type": "markdown",
   "id": "b6efc602-bad9-4193-ab75-ce7921550346",
   "metadata": {},
   "source": [
    "# NumPy Dizi A"
   ]
  }
 ],
 "metadata": {
  "kernelspec": {
   "display_name": "Python 3 (ipykernel)",
   "language": "python",
   "name": "python3"
  },
  "language_info": {
   "codemirror_mode": {
    "name": "ipython",
    "version": 3
   },
   "file_extension": ".py",
   "mimetype": "text/x-python",
   "name": "python",
   "nbconvert_exporter": "python",
   "pygments_lexer": "ipython3",
   "version": "3.10.6"
  }
 },
 "nbformat": 4,
 "nbformat_minor": 5
}
