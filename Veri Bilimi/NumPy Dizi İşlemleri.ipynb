{
 "cells": [
  {
   "cell_type": "code",
   "execution_count": 2,
   "id": "b7dc0e0e-4845-450b-a5d2-ef50d32db7c8",
   "metadata": {},
   "outputs": [],
   "source": [
    "import numpy as np"
   ]
  },
  {
   "cell_type": "markdown",
   "id": "095be558-d6b6-402b-8611-0ea520bdfde4",
   "metadata": {
    "jp-MarkdownHeadingCollapsed": true,
    "tags": []
   },
   "source": [
    "# NumPy Dizi Yeniden Şekillendirme"
   ]
  },
  {
   "cell_type": "code",
   "execution_count": 2,
   "id": "5ecfe3e7-9da3-44d7-aedb-45222b02274f",
   "metadata": {},
   "outputs": [
    {
     "data": {
      "text/plain": [
       "array([1, 2, 3, 4, 5, 6, 7, 8, 9])"
      ]
     },
     "execution_count": 2,
     "metadata": {},
     "output_type": "execute_result"
    }
   ],
   "source": [
    "np.arange(1, 10)"
   ]
  },
  {
   "cell_type": "code",
   "execution_count": 3,
   "id": "5c39a668-7752-4e66-81a2-0e5148fed7cc",
   "metadata": {},
   "outputs": [
    {
     "name": "stdout",
     "output_type": "stream",
     "text": [
      "(9,)\n"
     ]
    }
   ],
   "source": [
    "print(np.arange(1, 10).shape)"
   ]
  },
  {
   "cell_type": "code",
   "execution_count": 4,
   "id": "12482c6c-f6fa-41e4-b633-1b9913b93ba2",
   "metadata": {},
   "outputs": [
    {
     "data": {
      "text/plain": [
       "array([[1, 2, 3],\n",
       "       [4, 5, 6],\n",
       "       [7, 8, 9]])"
      ]
     },
     "execution_count": 4,
     "metadata": {},
     "output_type": "execute_result"
    }
   ],
   "source": [
    "np.arange(1,10).reshape((3,3))"
   ]
  },
  {
   "cell_type": "code",
   "execution_count": 5,
   "id": "a86a9cb7-cab8-4d31-91a3-649267797f11",
   "metadata": {},
   "outputs": [
    {
     "name": "stdout",
     "output_type": "stream",
     "text": [
      "(3, 3)\n"
     ]
    }
   ],
   "source": [
    "print(np.arange(1,10).reshape((3,3)).shape)"
   ]
  },
  {
   "cell_type": "markdown",
   "id": "5034d89b-527d-42f7-95a3-b173ff9783d0",
   "metadata": {},
   "source": [
    "## Tek boyutlu diziyi (vektörü) iki boyutlu hale getirme"
   ]
  },
  {
   "cell_type": "code",
   "execution_count": 6,
   "id": "a97d44fe-22f5-4e7e-b248-5eac19d77e20",
   "metadata": {},
   "outputs": [],
   "source": [
    "v = np.arange(1, 10)"
   ]
  },
  {
   "cell_type": "code",
   "execution_count": 7,
   "id": "fc677513-1452-4724-b896-6765895fb1e0",
   "metadata": {},
   "outputs": [
    {
     "name": "stdout",
     "output_type": "stream",
     "text": [
      "[1 2 3 4 5 6 7 8 9]\n"
     ]
    }
   ],
   "source": [
    "print(v)"
   ]
  },
  {
   "cell_type": "code",
   "execution_count": 8,
   "id": "c3ea23e0-a8cc-464b-b79c-7f5613bf213c",
   "metadata": {},
   "outputs": [
    {
     "name": "stdout",
     "output_type": "stream",
     "text": [
      "1\n"
     ]
    }
   ],
   "source": [
    "print(v.ndim)"
   ]
  },
  {
   "cell_type": "markdown",
   "id": "72b42516-611e-41c5-b40e-87d825b607c3",
   "metadata": {},
   "source": [
    "### Yukarıda görüldüğü gibi v tek boyutlu ve 9 elemanlı bir dizi\n",
    "Şimdi bu diziyi 2 boyutlu hale getirmek için `reshape` uygulayacağız"
   ]
  },
  {
   "cell_type": "code",
   "execution_count": 9,
   "id": "bf0e63e6-b317-4c0b-beda-f96f6e96125f",
   "metadata": {},
   "outputs": [],
   "source": [
    "v_r = v.reshape((1,9))"
   ]
  },
  {
   "cell_type": "code",
   "execution_count": 10,
   "id": "715dafeb-1d34-4afa-8cfd-ddcb8002397c",
   "metadata": {},
   "outputs": [
    {
     "name": "stdout",
     "output_type": "stream",
     "text": [
      "[[1 2 3 4 5 6 7 8 9]]\n"
     ]
    }
   ],
   "source": [
    "print(v_r)"
   ]
  },
  {
   "cell_type": "code",
   "execution_count": 11,
   "id": "9209640a-ddce-4d18-a2fb-4c5f5c0c450e",
   "metadata": {},
   "outputs": [
    {
     "name": "stdout",
     "output_type": "stream",
     "text": [
      "2\n"
     ]
    }
   ],
   "source": [
    "print(v_r.ndim)"
   ]
  },
  {
   "cell_type": "markdown",
   "id": "72c678d1-96fd-446a-8f21-33959e722b79",
   "metadata": {
    "jp-MarkdownHeadingCollapsed": true,
    "tags": []
   },
   "source": [
    "# NumPy Dizi Birleştirme"
   ]
  },
  {
   "cell_type": "code",
   "execution_count": 12,
   "id": "178dcf8f-5a68-430b-b2d9-9f0d2ce489da",
   "metadata": {},
   "outputs": [],
   "source": [
    "x = np.array([1, 2, 3])\n",
    "y = np.array([4, 5, 6])"
   ]
  },
  {
   "cell_type": "code",
   "execution_count": 13,
   "id": "5df2c30b-2106-4cd2-8f3e-ef8c90edc150",
   "metadata": {},
   "outputs": [
    {
     "data": {
      "text/plain": [
       "array([1, 2, 3, 4, 5, 6])"
      ]
     },
     "execution_count": 13,
     "metadata": {},
     "output_type": "execute_result"
    }
   ],
   "source": [
    "np.concatenate([x, y])"
   ]
  },
  {
   "cell_type": "markdown",
   "id": "da181a93-3590-45c9-9bea-940e9c651afa",
   "metadata": {},
   "source": [
    "## İki boyutlu matrisleri birleştirme"
   ]
  },
  {
   "cell_type": "code",
   "execution_count": 15,
   "id": "cb6270e6-db1b-4e77-8dc3-f2e079cb18d6",
   "metadata": {},
   "outputs": [],
   "source": [
    "x_23 = np.array([[1, 2, 3],\n",
    "                 [4, 5, 6]])\n",
    "x_43 = np.concatenate([x_23, x_23])"
   ]
  },
  {
   "cell_type": "code",
   "execution_count": 18,
   "id": "0b3c49fd-adb9-4f08-8390-cb18a4691ff1",
   "metadata": {},
   "outputs": [
    {
     "name": "stdout",
     "output_type": "stream",
     "text": [
      "[[1 2 3]\n",
      " [4 5 6]]\n",
      "(2, 3)\n"
     ]
    }
   ],
   "source": [
    "print(x_23)\n",
    "print(x_23.shape)"
   ]
  },
  {
   "cell_type": "code",
   "execution_count": 19,
   "id": "b9d4fcd2-6299-422f-a69a-da2e8b6f888b",
   "metadata": {},
   "outputs": [
    {
     "name": "stdout",
     "output_type": "stream",
     "text": [
      "[[1 2 3]\n",
      " [4 5 6]\n",
      " [1 2 3]\n",
      " [4 5 6]]\n",
      "(4, 3)\n"
     ]
    }
   ],
   "source": [
    "print(x_43)\n",
    "print(x_43.shape)"
   ]
  },
  {
   "cell_type": "markdown",
   "id": "38b57ebf-f480-42ec-89a2-aad7590d61e8",
   "metadata": {},
   "source": [
    "### Görüldüğü üzere iki matris satır bazında birleştirildi\n",
    "Böylece 2x3 iki matrisin alt alta koyulmasıyla 4x3 bir matris elde edildi. Şimdi sütun bazında birleştirme yapalım"
   ]
  },
  {
   "cell_type": "code",
   "execution_count": 22,
   "id": "311015d1-ea41-4c9d-8711-29faf86eaf62",
   "metadata": {},
   "outputs": [],
   "source": [
    "x_26 = np.concatenate([x_23, x_23], axis=1)"
   ]
  },
  {
   "cell_type": "code",
   "execution_count": 23,
   "id": "9bc01021-1bc8-48fe-b155-7c094539ebde",
   "metadata": {},
   "outputs": [
    {
     "name": "stdout",
     "output_type": "stream",
     "text": [
      "[[1 2 3 1 2 3]\n",
      " [4 5 6 4 5 6]]\n",
      "(2, 6)\n"
     ]
    }
   ],
   "source": [
    "print(x_26)\n",
    "print(x_26.shape)"
   ]
  },
  {
   "cell_type": "markdown",
   "id": "b6efc602-bad9-4193-ab75-ce7921550346",
   "metadata": {
    "jp-MarkdownHeadingCollapsed": true,
    "tags": []
   },
   "source": [
    "# NumPy Dizi Ayırma"
   ]
  },
  {
   "cell_type": "code",
   "execution_count": 24,
   "id": "640b4cef-9353-4910-8e3c-ae4b3a65531e",
   "metadata": {},
   "outputs": [],
   "source": [
    "x = np.array([1, 2, 3, 99, 99, 3, 2, 1])"
   ]
  },
  {
   "cell_type": "markdown",
   "id": "e81802d0-9526-4cb6-b8c6-76346abfee41",
   "metadata": {},
   "source": [
    "### x dizisini 3. elemana dek ayır, sonra 5. elemana dek ayır"
   ]
  },
  {
   "cell_type": "code",
   "execution_count": 26,
   "id": "57d6c89a-ab83-492a-98fb-76e6c7644afd",
   "metadata": {},
   "outputs": [
    {
     "data": {
      "text/plain": [
       "[array([1, 2, 3]), array([99, 99]), array([3, 2, 1])]"
      ]
     },
     "execution_count": 26,
     "metadata": {},
     "output_type": "execute_result"
    }
   ],
   "source": [
    "np.split(x, [3, 5])"
   ]
  },
  {
   "cell_type": "markdown",
   "id": "223931b3-f80b-4c82-a99d-ba2be80203ee",
   "metadata": {},
   "source": [
    "## İki boyutlu ayırma"
   ]
  },
  {
   "cell_type": "code",
   "execution_count": 28,
   "id": "1c0ee233-b86e-47d2-8563-2044d427c9ca",
   "metadata": {},
   "outputs": [
    {
     "name": "stdout",
     "output_type": "stream",
     "text": [
      "[[ 0  1  2  3]\n",
      " [ 4  5  6  7]\n",
      " [ 8  9 10 11]\n",
      " [12 13 14 15]]\n"
     ]
    }
   ],
   "source": [
    "m = np.arange(16).reshape(4,4)\n",
    "print(m)"
   ]
  },
  {
   "cell_type": "code",
   "execution_count": 31,
   "id": "75dfd260-31c8-4687-b1da-81415271fe23",
   "metadata": {},
   "outputs": [],
   "source": [
    "ust, alt = np.vsplit(m, [2])"
   ]
  },
  {
   "cell_type": "code",
   "execution_count": 32,
   "id": "f618763b-834a-4a5b-a75a-2ef4762d33ab",
   "metadata": {},
   "outputs": [
    {
     "name": "stdout",
     "output_type": "stream",
     "text": [
      "[[0 1 2 3]\n",
      " [4 5 6 7]]\n"
     ]
    }
   ],
   "source": [
    "print(ust)"
   ]
  },
  {
   "cell_type": "code",
   "execution_count": 33,
   "id": "d5bfdcba-febb-4ce8-9cb0-4f08d4d2812c",
   "metadata": {},
   "outputs": [
    {
     "name": "stdout",
     "output_type": "stream",
     "text": [
      "[[ 8  9 10 11]\n",
      " [12 13 14 15]]\n"
     ]
    }
   ],
   "source": [
    "print(alt)"
   ]
  },
  {
   "cell_type": "code",
   "execution_count": 34,
   "id": "a8680acc-a828-45cf-9cb2-6d3595ffce88",
   "metadata": {},
   "outputs": [],
   "source": [
    "sol, sag = np.hsplit(m, [2])"
   ]
  },
  {
   "cell_type": "code",
   "execution_count": 35,
   "id": "5abc1716-517d-421d-9f5e-ecbb2a0686f6",
   "metadata": {},
   "outputs": [
    {
     "name": "stdout",
     "output_type": "stream",
     "text": [
      "[[ 0  1]\n",
      " [ 4  5]\n",
      " [ 8  9]\n",
      " [12 13]]\n"
     ]
    }
   ],
   "source": [
    "print(sol)"
   ]
  },
  {
   "cell_type": "code",
   "execution_count": 36,
   "id": "c0bf97b2-8e59-4857-9776-8878fdde4e18",
   "metadata": {},
   "outputs": [
    {
     "name": "stdout",
     "output_type": "stream",
     "text": [
      "[[ 2  3]\n",
      " [ 6  7]\n",
      " [10 11]\n",
      " [14 15]]\n"
     ]
    }
   ],
   "source": [
    "print(sag)"
   ]
  },
  {
   "cell_type": "markdown",
   "id": "c20708d0-3cdc-43e5-948b-11eec145a1eb",
   "metadata": {
    "jp-MarkdownHeadingCollapsed": true,
    "tags": []
   },
   "source": [
    "# NumPy Dizi Sıralama"
   ]
  },
  {
   "cell_type": "code",
   "execution_count": 37,
   "id": "ee5bc66f-b49e-4cb8-9d65-1f2a865e3b0d",
   "metadata": {},
   "outputs": [
    {
     "name": "stdout",
     "output_type": "stream",
     "text": [
      "[2 1 4 3 5]\n"
     ]
    }
   ],
   "source": [
    "v = np.array([2, 1, 4, 3, 5])\n",
    "print(v)"
   ]
  },
  {
   "cell_type": "code",
   "execution_count": 38,
   "id": "e5792f22-df3f-4808-9998-e9d281b26706",
   "metadata": {},
   "outputs": [
    {
     "data": {
      "text/plain": [
       "array([1, 2, 3, 4, 5])"
      ]
     },
     "execution_count": 38,
     "metadata": {},
     "output_type": "execute_result"
    }
   ],
   "source": [
    "np.sort(v)"
   ]
  },
  {
   "cell_type": "code",
   "execution_count": 39,
   "id": "a270b8a9-916d-4ae3-af67-21bf390d7016",
   "metadata": {},
   "outputs": [],
   "source": [
    "v.sort()"
   ]
  },
  {
   "cell_type": "code",
   "execution_count": 40,
   "id": "14c202be-07f7-4314-a57e-329c9c5e901e",
   "metadata": {},
   "outputs": [
    {
     "name": "stdout",
     "output_type": "stream",
     "text": [
      "[1 2 3 4 5]\n"
     ]
    }
   ],
   "source": [
    "print(v)"
   ]
  },
  {
   "cell_type": "markdown",
   "id": "33e8aa03-29fc-4126-a1fd-b70d083b15f6",
   "metadata": {
    "jp-MarkdownHeadingCollapsed": true,
    "tags": []
   },
   "source": [
    "## İki boyutlu dizi sıralama"
   ]
  },
  {
   "cell_type": "code",
   "execution_count": 41,
   "id": "cf638856-2b54-4260-9f3b-3e994ef7ac6c",
   "metadata": {},
   "outputs": [],
   "source": [
    "n = np.random.normal(10, 4, (3, 3))"
   ]
  },
  {
   "cell_type": "code",
   "execution_count": 42,
   "id": "eb4d255e-e4ef-400a-a4dc-72e09034383e",
   "metadata": {},
   "outputs": [
    {
     "name": "stdout",
     "output_type": "stream",
     "text": [
      "[[ 3.3116903  15.9627824  11.02590338]\n",
      " [ 9.82691476 13.23646626 15.10133332]\n",
      " [ 8.9820192   4.0339741   8.7260658 ]]\n"
     ]
    }
   ],
   "source": [
    "print(n)"
   ]
  },
  {
   "cell_type": "markdown",
   "id": "d8950866-fd39-4852-8f27-6c6530fe07be",
   "metadata": {},
   "source": [
    "### Dizinin satırlarını sırala: **axis = 1**"
   ]
  },
  {
   "cell_type": "code",
   "execution_count": 44,
   "id": "f425848a-89b1-40ae-872f-47d48d490bd5",
   "metadata": {},
   "outputs": [
    {
     "name": "stdout",
     "output_type": "stream",
     "text": [
      "[[ 3.3116903  11.02590338 15.9627824 ]\n",
      " [ 9.82691476 13.23646626 15.10133332]\n",
      " [ 4.0339741   8.7260658   8.9820192 ]]\n"
     ]
    }
   ],
   "source": [
    "print(np.sort(n, axis = 1))"
   ]
  },
  {
   "cell_type": "markdown",
   "id": "58096b26-3024-4d11-a3cc-5c0b8b1f6e77",
   "metadata": {},
   "source": [
    "### Dizinin sütunlarını sırala: **axis=0**"
   ]
  },
  {
   "cell_type": "code",
   "execution_count": 45,
   "id": "4a641ff6-c98f-4b8a-b7cd-81838e17e6e3",
   "metadata": {},
   "outputs": [
    {
     "name": "stdout",
     "output_type": "stream",
     "text": [
      "[[ 3.3116903   4.0339741   8.7260658 ]\n",
      " [ 8.9820192  13.23646626 11.02590338]\n",
      " [ 9.82691476 15.9627824  15.10133332]]\n"
     ]
    }
   ],
   "source": [
    "print(np.sort(n, axis=0))"
   ]
  },
  {
   "cell_type": "markdown",
   "id": "ef85a602-6fb4-4af7-897d-5bb2290ac66b",
   "metadata": {
    "tags": []
   },
   "source": [
    "# Dizi Alt Kümeleri (Slicing)"
   ]
  },
  {
   "cell_type": "code",
   "execution_count": 3,
   "id": "c9bc5d21-7c44-4bd5-8ddb-c144477a4b5c",
   "metadata": {},
   "outputs": [
    {
     "name": "stdout",
     "output_type": "stream",
     "text": [
      "[31 32 33 34 35 36 37 38 39 40]\n"
     ]
    }
   ],
   "source": [
    "a = np.arange(31, 41)\n",
    "print(a)"
   ]
  },
  {
   "cell_type": "markdown",
   "id": "38ecc0b5-da58-47f2-a471-61cfe39cf938",
   "metadata": {},
   "source": [
    "### Baştan 3. elemana dek (3. dahil değil)"
   ]
  },
  {
   "cell_type": "code",
   "execution_count": 4,
   "id": "364fea5a-34c9-4167-9f5a-86b819f05025",
   "metadata": {},
   "outputs": [
    {
     "name": "stdout",
     "output_type": "stream",
     "text": [
      "[31 32 33]\n"
     ]
    }
   ],
   "source": [
    "print(a[:3])"
   ]
  },
  {
   "cell_type": "markdown",
   "id": "392157a4-d1b3-4293-998f-8cc9042cdbc0",
   "metadata": {},
   "source": [
    "### 3. elemandan sona dek"
   ]
  },
  {
   "cell_type": "code",
   "execution_count": 5,
   "id": "431025fa-7b09-4e95-9ad8-4bb83fd70372",
   "metadata": {},
   "outputs": [
    {
     "name": "stdout",
     "output_type": "stream",
     "text": [
      "[34 35 36 37 38 39 40]\n"
     ]
    }
   ],
   "source": [
    "print(a[3:])"
   ]
  },
  {
   "cell_type": "markdown",
   "id": "a404b2c7-afd0-404d-9680-a216c6928714",
   "metadata": {},
   "source": [
    "### 1. elemandan başla, ikişer ikişer"
   ]
  },
  {
   "cell_type": "code",
   "execution_count": 6,
   "id": "f67b2bc8-747d-4001-84f8-d9c39e1d8a95",
   "metadata": {},
   "outputs": [
    {
     "name": "stdout",
     "output_type": "stream",
     "text": [
      "[32 34 36 38 40]\n"
     ]
    }
   ],
   "source": [
    "print(a[1::2])"
   ]
  },
  {
   "cell_type": "markdown",
   "id": "8b7c8fd8-0182-45fd-a9a8-66e3f144b52f",
   "metadata": {
    "jp-MarkdownHeadingCollapsed": true,
    "tags": []
   },
   "source": [
    "## Matriste slice işlemleri"
   ]
  },
  {
   "cell_type": "markdown",
   "id": "9a65c2bd-b173-487f-b861-44e19403d775",
   "metadata": {},
   "source": [
    "### print( m [ SATIR, SÜTUN ] )"
   ]
  },
  {
   "cell_type": "code",
   "execution_count": 7,
   "id": "28e56987-5972-4cf2-80f7-671b6a49e93c",
   "metadata": {},
   "outputs": [
    {
     "name": "stdout",
     "output_type": "stream",
     "text": [
      "[[7 1 9 5 8]\n",
      " [1 2 8 9 0]\n",
      " [5 2 2 0 4]\n",
      " [4 5 8 1 1]\n",
      " [5 3 1 6 7]]\n"
     ]
    }
   ],
   "source": [
    "m = np.random.randint(10, size=(5, 5))\n",
    "print(m)"
   ]
  },
  {
   "cell_type": "markdown",
   "id": "6c6ac547-c337-44b2-8b53-f8be8a975bf4",
   "metadata": {},
   "source": [
    "### 0. sütunu seç"
   ]
  },
  {
   "cell_type": "code",
   "execution_count": 8,
   "id": "ea659c35-0e44-4c9c-9a4a-84278c412dd2",
   "metadata": {},
   "outputs": [
    {
     "name": "stdout",
     "output_type": "stream",
     "text": [
      "[7 1 5 4 5]\n"
     ]
    }
   ],
   "source": [
    "print(m[:, 0])"
   ]
  },
  {
   "cell_type": "markdown",
   "id": "aaf261f4-a726-4902-b81a-85025fd88698",
   "metadata": {},
   "source": [
    "### 3. sütunu seç"
   ]
  },
  {
   "cell_type": "code",
   "execution_count": 9,
   "id": "e245b2de-81fa-49de-8ae2-77ec51eb8ed8",
   "metadata": {},
   "outputs": [
    {
     "name": "stdout",
     "output_type": "stream",
     "text": [
      "[5 9 0 1 6]\n"
     ]
    }
   ],
   "source": [
    "print(m[:, 3])"
   ]
  },
  {
   "cell_type": "markdown",
   "id": "c1bdc9d4-14e7-4802-832d-fdeb0d979d25",
   "metadata": {},
   "source": [
    "### 2. satırı seç"
   ]
  },
  {
   "cell_type": "code",
   "execution_count": 10,
   "id": "dec13abb-55a5-4333-b56d-90dd066d3cb0",
   "metadata": {},
   "outputs": [
    {
     "name": "stdout",
     "output_type": "stream",
     "text": [
      "[5 2 2 0 4]\n"
     ]
    }
   ],
   "source": [
    "print(m[2, :])"
   ]
  },
  {
   "cell_type": "markdown",
   "id": "ac1edc36-19c3-4f0e-bb0a-ea198e0f0d7c",
   "metadata": {},
   "source": [
    "### İlk 3 satırı ve ilk 2 sütunu seç "
   ]
  },
  {
   "cell_type": "code",
   "execution_count": 11,
   "id": "094c9ddd-5ba4-4a97-a144-a4fa96dcd1df",
   "metadata": {},
   "outputs": [
    {
     "name": "stdout",
     "output_type": "stream",
     "text": [
      "[[7 1]\n",
      " [1 2]\n",
      " [5 2]]\n"
     ]
    }
   ],
   "source": [
    "print(m[:3, :2])"
   ]
  },
  {
   "cell_type": "markdown",
   "id": "89f517d4-4134-4467-a40a-246468a819ca",
   "metadata": {},
   "source": [
    "### Ortadaki üç sütunu seç"
   ]
  },
  {
   "cell_type": "code",
   "execution_count": 13,
   "id": "6c38120e-d8b6-423c-8f84-0bc3b851de73",
   "metadata": {},
   "outputs": [
    {
     "name": "stdout",
     "output_type": "stream",
     "text": [
      "[[1 9 5]\n",
      " [2 8 9]\n",
      " [2 2 0]\n",
      " [5 8 1]\n",
      " [3 1 6]]\n"
     ]
    }
   ],
   "source": [
    "print(m[:, 1:4])"
   ]
  },
  {
   "cell_type": "markdown",
   "id": "ddb30505-fb0c-4bc0-9e80-bbd6cde78763",
   "metadata": {},
   "source": [
    "## Alt kümeyi bağımsızlaştırma (copy)"
   ]
  },
  {
   "cell_type": "code",
   "execution_count": 15,
   "id": "d11d138f-ee16-4ed4-8405-29b43bcd6c57",
   "metadata": {},
   "outputs": [
    {
     "name": "stdout",
     "output_type": "stream",
     "text": [
      "[[4 0 3 7]\n",
      " [9 1 6 3]\n",
      " [6 0 3 2]\n",
      " [1 5 3 7]]\n"
     ]
    }
   ],
   "source": [
    "a = np.random.randint(10, size=(4, 4))\n",
    "print(a)"
   ]
  },
  {
   "cell_type": "code",
   "execution_count": 17,
   "id": "63b6c51d-57ba-4d82-b054-3bd41bcfb3c4",
   "metadata": {},
   "outputs": [
    {
     "name": "stdout",
     "output_type": "stream",
     "text": [
      "[[1 6]\n",
      " [0 3]]\n"
     ]
    }
   ],
   "source": [
    "a_11_33 = a[1:3, 1:3].copy()\n",
    "print(a_11_33)"
   ]
  },
  {
   "cell_type": "code",
   "execution_count": 18,
   "id": "1d172a58-da53-44f3-ad97-7633c234a5d9",
   "metadata": {},
   "outputs": [],
   "source": [
    "a_11_33[0, 0] = 99\n",
    "a_11_33[0, 1] = 88\n",
    "a_11_33[1, 0] = 77\n",
    "a_11_33[1, 1] = 66"
   ]
  },
  {
   "cell_type": "code",
   "execution_count": 21,
   "id": "e9662181-70d1-463b-b894-4618a61d948d",
   "metadata": {},
   "outputs": [
    {
     "name": "stdout",
     "output_type": "stream",
     "text": [
      "[[99 88]\n",
      " [77 66]]\n",
      "\n",
      "[[4 0 3 7]\n",
      " [9 1 6 3]\n",
      " [6 0 3 2]\n",
      " [1 5 3 7]]\n"
     ]
    }
   ],
   "source": [
    "print(a_11_33, end=\"\\n\\n\")\n",
    "print(a)"
   ]
  }
 ],
 "metadata": {
  "kernelspec": {
   "display_name": "Python 3 (ipykernel)",
   "language": "python",
   "name": "python3"
  },
  "language_info": {
   "codemirror_mode": {
    "name": "ipython",
    "version": 3
   },
   "file_extension": ".py",
   "mimetype": "text/x-python",
   "name": "python",
   "nbconvert_exporter": "python",
   "pygments_lexer": "ipython3",
   "version": "3.10.7"
  }
 },
 "nbformat": 4,
 "nbformat_minor": 5
}
