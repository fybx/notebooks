{
 "cells": [
  {
   "cell_type": "markdown",
   "id": "095be558-d6b6-402b-8611-0ea520bdfde4",
   "metadata": {
    "jp-MarkdownHeadingCollapsed": true,
    "tags": []
   },
   "source": [
    "# NumPy Dizi Yeniden Şekillendirme"
   ]
  },
  {
   "cell_type": "code",
   "execution_count": 1,
   "id": "b7dc0e0e-4845-450b-a5d2-ef50d32db7c8",
   "metadata": {},
   "outputs": [],
   "source": [
    "import numpy as np"
   ]
  },
  {
   "cell_type": "code",
   "execution_count": 2,
   "id": "5ecfe3e7-9da3-44d7-aedb-45222b02274f",
   "metadata": {},
   "outputs": [
    {
     "data": {
      "text/plain": [
       "array([1, 2, 3, 4, 5, 6, 7, 8, 9])"
      ]
     },
     "execution_count": 2,
     "metadata": {},
     "output_type": "execute_result"
    }
   ],
   "source": [
    "np.arange(1, 10)"
   ]
  },
  {
   "cell_type": "code",
   "execution_count": 3,
   "id": "5c39a668-7752-4e66-81a2-0e5148fed7cc",
   "metadata": {},
   "outputs": [
    {
     "name": "stdout",
     "output_type": "stream",
     "text": [
      "(9,)\n"
     ]
    }
   ],
   "source": [
    "print(np.arange(1, 10).shape)"
   ]
  },
  {
   "cell_type": "code",
   "execution_count": 4,
   "id": "12482c6c-f6fa-41e4-b633-1b9913b93ba2",
   "metadata": {},
   "outputs": [
    {
     "data": {
      "text/plain": [
       "array([[1, 2, 3],\n",
       "       [4, 5, 6],\n",
       "       [7, 8, 9]])"
      ]
     },
     "execution_count": 4,
     "metadata": {},
     "output_type": "execute_result"
    }
   ],
   "source": [
    "np.arange(1,10).reshape((3,3))"
   ]
  },
  {
   "cell_type": "code",
   "execution_count": 5,
   "id": "a86a9cb7-cab8-4d31-91a3-649267797f11",
   "metadata": {},
   "outputs": [
    {
     "name": "stdout",
     "output_type": "stream",
     "text": [
      "(3, 3)\n"
     ]
    }
   ],
   "source": [
    "print(np.arange(1,10).reshape((3,3)).shape)"
   ]
  },
  {
   "cell_type": "markdown",
   "id": "5034d89b-527d-42f7-95a3-b173ff9783d0",
   "metadata": {},
   "source": [
    "## Tek boyutlu diziyi (vektörü) iki boyutlu hale getirme"
   ]
  },
  {
   "cell_type": "code",
   "execution_count": 6,
   "id": "a97d44fe-22f5-4e7e-b248-5eac19d77e20",
   "metadata": {},
   "outputs": [],
   "source": [
    "v = np.arange(1, 10)"
   ]
  },
  {
   "cell_type": "code",
   "execution_count": 7,
   "id": "fc677513-1452-4724-b896-6765895fb1e0",
   "metadata": {},
   "outputs": [
    {
     "name": "stdout",
     "output_type": "stream",
     "text": [
      "[1 2 3 4 5 6 7 8 9]\n"
     ]
    }
   ],
   "source": [
    "print(v)"
   ]
  },
  {
   "cell_type": "code",
   "execution_count": 8,
   "id": "c3ea23e0-a8cc-464b-b79c-7f5613bf213c",
   "metadata": {},
   "outputs": [
    {
     "name": "stdout",
     "output_type": "stream",
     "text": [
      "1\n"
     ]
    }
   ],
   "source": [
    "print(v.ndim)"
   ]
  },
  {
   "cell_type": "markdown",
   "id": "72b42516-611e-41c5-b40e-87d825b607c3",
   "metadata": {},
   "source": [
    "### Yukarıda görüldüğü gibi v tek boyutlu ve 9 elemanlı bir dizi\n",
    "Şimdi bu diziyi 2 boyutlu hale getirmek için `reshape` uygulayacağız"
   ]
  },
  {
   "cell_type": "code",
   "execution_count": 9,
   "id": "bf0e63e6-b317-4c0b-beda-f96f6e96125f",
   "metadata": {},
   "outputs": [],
   "source": [
    "v_r = v.reshape((1,9))"
   ]
  },
  {
   "cell_type": "code",
   "execution_count": 10,
   "id": "715dafeb-1d34-4afa-8cfd-ddcb8002397c",
   "metadata": {},
   "outputs": [
    {
     "name": "stdout",
     "output_type": "stream",
     "text": [
      "[[1 2 3 4 5 6 7 8 9]]\n"
     ]
    }
   ],
   "source": [
    "print(v_r)"
   ]
  },
  {
   "cell_type": "code",
   "execution_count": 12,
   "id": "9209640a-ddce-4d18-a2fb-4c5f5c0c450e",
   "metadata": {},
   "outputs": [
    {
     "name": "stdout",
     "output_type": "stream",
     "text": [
      "2\n"
     ]
    }
   ],
   "source": [
    "print(v_r.ndim)"
   ]
  },
  {
   "cell_type": "markdown",
   "id": "72c678d1-96fd-446a-8f21-33959e722b79",
   "metadata": {},
   "source": [
    "# NumPy Dizi Birleştirme"
   ]
  },
  {
   "cell_type": "code",
   "execution_count": null,
   "id": "178dcf8f-5a68-430b-b2d9-9f0d2ce489da",
   "metadata": {},
   "outputs": [],
   "source": []
  }
 ],
 "metadata": {
  "kernelspec": {
   "display_name": "Python 3 (ipykernel)",
   "language": "python",
   "name": "python3"
  },
  "language_info": {
   "codemirror_mode": {
    "name": "ipython",
    "version": 3
   },
   "file_extension": ".py",
   "mimetype": "text/x-python",
   "name": "python",
   "nbconvert_exporter": "python",
   "pygments_lexer": "ipython3",
   "version": "3.10.6"
  }
 },
 "nbformat": 4,
 "nbformat_minor": 5
}
